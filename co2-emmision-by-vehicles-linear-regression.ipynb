{
 "cells": [
  {
   "cell_type": "markdown",
   "id": "67a3be90",
   "metadata": {
    "papermill": {
     "duration": 0.009422,
     "end_time": "2024-03-12T12:49:39.403837",
     "exception": false,
     "start_time": "2024-03-12T12:49:39.394415",
     "status": "completed"
    },
    "tags": []
   },
   "source": [
    "# Dataset description\n",
    "\n",
    "This dataset captures data over a period of 7 years of how CO2 emissions by a vehicle can vary with the different features.\n",
    "\n",
    "Features:\n",
    "- Model\n",
    "\n",
    "    - 4WD/4X4 = Four-wheel drive\n",
    "    - AWD = All-wheel drive\n",
    "    - FFV = Flexible-fuel vehicle\n",
    "    - SWB = Short wheelbase\n",
    "    - LWB = Long wheelbase\n",
    "    - EWB = Extended wheelbase\n",
    "\n",
    "- Transmission\n",
    "\n",
    "    - A = Automatic\n",
    "    - AM = Automated manual\n",
    "    - AS = Automatic with select shift\n",
    "    - AV = Continuously variable\n",
    "    - M = Manual\n",
    "    - 3 - 10 = Number of gears\n",
    "\n",
    "- Fuel type\n",
    "\n",
    "    - X = Regular gasoline\n",
    "    - Z = Premium gasoline\n",
    "    - D = Diesel\n",
    "    - E = Ethanol (E85)\n",
    "    - N = Natural gas\n",
    "\n",
    "- Fuel Consumption (L/100 km)\n",
    "\n",
    "- CO2 Emissions (g/km)"
   ]
  },
  {
   "cell_type": "markdown",
   "id": "8166862b",
   "metadata": {
    "papermill": {
     "duration": 0.008692,
     "end_time": "2024-03-12T12:49:39.421714",
     "exception": false,
     "start_time": "2024-03-12T12:49:39.413022",
     "status": "completed"
    },
    "tags": []
   },
   "source": [
    "[A video regarding the CO2 emissions across the globe.](https://futurism.com/the-byte/nasa-video-carbon-emissions-visible) Hard watch."
   ]
  },
  {
   "cell_type": "markdown",
   "id": "df829942",
   "metadata": {
    "papermill": {
     "duration": 0.008553,
     "end_time": "2024-03-12T12:49:39.439256",
     "exception": false,
     "start_time": "2024-03-12T12:49:39.430703",
     "status": "completed"
    },
    "tags": []
   },
   "source": [
    "[Latest CO2 global emission levels.](https://www.co2.earth/daily-co2)\n",
    "\n",
    "> Given these high continual levels (>425 ppm CO2), it would be interesting to see how vehicles impact them."
   ]
  },
  {
   "cell_type": "markdown",
   "id": "f0b0dcb2",
   "metadata": {
    "papermill": {
     "duration": 0.008645,
     "end_time": "2024-03-12T12:49:39.456711",
     "exception": false,
     "start_time": "2024-03-12T12:49:39.448066",
     "status": "completed"
    },
    "tags": []
   },
   "source": [
    "# Questions\n",
    "\n",
    "- Determine or test the influence of different variables on the emission of CO2.\n",
    "- What are the most influencing features that affect the CO2 emission the most?\n",
    "- Will there be any difference in the CO2 emissions when Fuel Consumption for City and Highway are considered separately and when their weighted variable interaction is considered?"
   ]
  },
  {
   "cell_type": "markdown",
   "id": "a238efe7",
   "metadata": {
    "papermill": {
     "duration": 0.009043,
     "end_time": "2024-03-12T12:49:39.474606",
     "exception": false,
     "start_time": "2024-03-12T12:49:39.465563",
     "status": "completed"
    },
    "tags": []
   },
   "source": [
    "# Data pre-processing and exploration"
   ]
  },
  {
   "cell_type": "code",
   "execution_count": 1,
   "id": "1df815c0",
   "metadata": {
    "execution": {
     "iopub.execute_input": "2024-03-12T12:49:39.495074Z",
     "iopub.status.busy": "2024-03-12T12:49:39.494169Z",
     "iopub.status.idle": "2024-03-12T12:49:41.856130Z",
     "shell.execute_reply": "2024-03-12T12:49:41.854984Z"
    },
    "papermill": {
     "duration": 2.37531,
     "end_time": "2024-03-12T12:49:41.858797",
     "exception": false,
     "start_time": "2024-03-12T12:49:39.483487",
     "status": "completed"
    },
    "tags": []
   },
   "outputs": [
    {
     "data": {
      "text/html": [
       "<div>\n",
       "<style scoped>\n",
       "    .dataframe tbody tr th:only-of-type {\n",
       "        vertical-align: middle;\n",
       "    }\n",
       "\n",
       "    .dataframe tbody tr th {\n",
       "        vertical-align: top;\n",
       "    }\n",
       "\n",
       "    .dataframe thead th {\n",
       "        text-align: right;\n",
       "    }\n",
       "</style>\n",
       "<table border=\"1\" class=\"dataframe\">\n",
       "  <thead>\n",
       "    <tr style=\"text-align: right;\">\n",
       "      <th></th>\n",
       "      <th>Make</th>\n",
       "      <th>Model</th>\n",
       "      <th>Vehicle Class</th>\n",
       "      <th>Engine Size(L)</th>\n",
       "      <th>Cylinders</th>\n",
       "      <th>Transmission</th>\n",
       "      <th>Fuel Type</th>\n",
       "      <th>Fuel Consumption City (L/100 km)</th>\n",
       "      <th>Fuel Consumption Hwy (L/100 km)</th>\n",
       "      <th>Fuel Consumption Comb (L/100 km)</th>\n",
       "      <th>Fuel Consumption Comb (mpg)</th>\n",
       "      <th>CO2 Emissions(g/km)</th>\n",
       "    </tr>\n",
       "  </thead>\n",
       "  <tbody>\n",
       "    <tr>\n",
       "      <th>0</th>\n",
       "      <td>ACURA</td>\n",
       "      <td>ILX</td>\n",
       "      <td>COMPACT</td>\n",
       "      <td>2.0</td>\n",
       "      <td>4</td>\n",
       "      <td>AS5</td>\n",
       "      <td>Z</td>\n",
       "      <td>9.9</td>\n",
       "      <td>6.7</td>\n",
       "      <td>8.5</td>\n",
       "      <td>33</td>\n",
       "      <td>196</td>\n",
       "    </tr>\n",
       "    <tr>\n",
       "      <th>1</th>\n",
       "      <td>ACURA</td>\n",
       "      <td>ILX</td>\n",
       "      <td>COMPACT</td>\n",
       "      <td>2.4</td>\n",
       "      <td>4</td>\n",
       "      <td>M6</td>\n",
       "      <td>Z</td>\n",
       "      <td>11.2</td>\n",
       "      <td>7.7</td>\n",
       "      <td>9.6</td>\n",
       "      <td>29</td>\n",
       "      <td>221</td>\n",
       "    </tr>\n",
       "    <tr>\n",
       "      <th>2</th>\n",
       "      <td>ACURA</td>\n",
       "      <td>ILX HYBRID</td>\n",
       "      <td>COMPACT</td>\n",
       "      <td>1.5</td>\n",
       "      <td>4</td>\n",
       "      <td>AV7</td>\n",
       "      <td>Z</td>\n",
       "      <td>6.0</td>\n",
       "      <td>5.8</td>\n",
       "      <td>5.9</td>\n",
       "      <td>48</td>\n",
       "      <td>136</td>\n",
       "    </tr>\n",
       "    <tr>\n",
       "      <th>3</th>\n",
       "      <td>ACURA</td>\n",
       "      <td>MDX 4WD</td>\n",
       "      <td>SUV - SMALL</td>\n",
       "      <td>3.5</td>\n",
       "      <td>6</td>\n",
       "      <td>AS6</td>\n",
       "      <td>Z</td>\n",
       "      <td>12.7</td>\n",
       "      <td>9.1</td>\n",
       "      <td>11.1</td>\n",
       "      <td>25</td>\n",
       "      <td>255</td>\n",
       "    </tr>\n",
       "    <tr>\n",
       "      <th>4</th>\n",
       "      <td>ACURA</td>\n",
       "      <td>RDX AWD</td>\n",
       "      <td>SUV - SMALL</td>\n",
       "      <td>3.5</td>\n",
       "      <td>6</td>\n",
       "      <td>AS6</td>\n",
       "      <td>Z</td>\n",
       "      <td>12.1</td>\n",
       "      <td>8.7</td>\n",
       "      <td>10.6</td>\n",
       "      <td>27</td>\n",
       "      <td>244</td>\n",
       "    </tr>\n",
       "  </tbody>\n",
       "</table>\n",
       "</div>"
      ],
      "text/plain": [
       "    Make       Model Vehicle Class  Engine Size(L)  Cylinders Transmission  \\\n",
       "0  ACURA         ILX       COMPACT             2.0          4          AS5   \n",
       "1  ACURA         ILX       COMPACT             2.4          4           M6   \n",
       "2  ACURA  ILX HYBRID       COMPACT             1.5          4          AV7   \n",
       "3  ACURA     MDX 4WD   SUV - SMALL             3.5          6          AS6   \n",
       "4  ACURA     RDX AWD   SUV - SMALL             3.5          6          AS6   \n",
       "\n",
       "  Fuel Type  Fuel Consumption City (L/100 km)  \\\n",
       "0         Z                               9.9   \n",
       "1         Z                              11.2   \n",
       "2         Z                               6.0   \n",
       "3         Z                              12.7   \n",
       "4         Z                              12.1   \n",
       "\n",
       "   Fuel Consumption Hwy (L/100 km)  Fuel Consumption Comb (L/100 km)  \\\n",
       "0                              6.7                               8.5   \n",
       "1                              7.7                               9.6   \n",
       "2                              5.8                               5.9   \n",
       "3                              9.1                              11.1   \n",
       "4                              8.7                              10.6   \n",
       "\n",
       "   Fuel Consumption Comb (mpg)  CO2 Emissions(g/km)  \n",
       "0                           33                  196  \n",
       "1                           29                  221  \n",
       "2                           48                  136  \n",
       "3                           25                  255  \n",
       "4                           27                  244  "
      ]
     },
     "execution_count": 1,
     "metadata": {},
     "output_type": "execute_result"
    }
   ],
   "source": [
    "import pandas as pd\n",
    "import numpy as np\n",
    "import matplotlib.pyplot as plt\n",
    "import seaborn as sns\n",
    "\n",
    "emissions = pd.read_csv(\"/kaggle/input/co2-emission-by-vehicles/CO2 Emissions_Canada.csv\")\n",
    "emissions.head()"
   ]
  },
  {
   "cell_type": "markdown",
   "id": "67394ac9",
   "metadata": {
    "papermill": {
     "duration": 0.009116,
     "end_time": "2024-03-12T12:49:41.877397",
     "exception": false,
     "start_time": "2024-03-12T12:49:41.868281",
     "status": "completed"
    },
    "tags": []
   },
   "source": [
    "## Check if the combined fuel consumption is well calculated"
   ]
  },
  {
   "cell_type": "code",
   "execution_count": 2,
   "id": "6d4f6ef7",
   "metadata": {
    "execution": {
     "iopub.execute_input": "2024-03-12T12:49:41.898678Z",
     "iopub.status.busy": "2024-03-12T12:49:41.898298Z",
     "iopub.status.idle": "2024-03-12T12:49:41.908267Z",
     "shell.execute_reply": "2024-03-12T12:49:41.907289Z"
    },
    "papermill": {
     "duration": 0.024023,
     "end_time": "2024-03-12T12:49:41.910659",
     "exception": false,
     "start_time": "2024-03-12T12:49:41.886636",
     "status": "completed"
    },
    "tags": []
   },
   "outputs": [
    {
     "data": {
      "text/plain": [
       "array([[ 9.9,  6.7],\n",
       "       [11.2,  7.7],\n",
       "       [ 6. ,  5.8],\n",
       "       ...,\n",
       "       [11.7,  8.6],\n",
       "       [11.2,  8.3],\n",
       "       [12.2,  8.7]])"
      ]
     },
     "execution_count": 2,
     "metadata": {},
     "output_type": "execute_result"
    }
   ],
   "source": [
    "# extract relevant columns from the dataset\n",
    "city_consumption = emissions['Fuel Consumption City (L/100 km)']\n",
    "highway_consumption = emissions['Fuel Consumption Hwy (L/100 km)']\n",
    "combined_consumption = emissions['Fuel Consumption Comb (L/100 km)']\n",
    "\n",
    "# combine the city and highway consumption into a matrix\n",
    "consumption_matrix = np.column_stack([city_consumption, highway_consumption])\n",
    "\n",
    "consumption_matrix"
   ]
  },
  {
   "cell_type": "markdown",
   "id": "3eeee2b7",
   "metadata": {
    "papermill": {
     "duration": 0.009212,
     "end_time": "2024-03-12T12:49:41.930314",
     "exception": false,
     "start_time": "2024-03-12T12:49:41.921102",
     "status": "completed"
    },
    "tags": []
   },
   "source": [
    "### Linear regression to find coefficients that describe the relationship between city, highway, and combined fuel consumption"
   ]
  },
  {
   "cell_type": "markdown",
   "id": "bd94b4ba",
   "metadata": {
    "papermill": {
     "duration": 0.009015,
     "end_time": "2024-03-12T12:49:41.948804",
     "exception": false,
     "start_time": "2024-03-12T12:49:41.939789",
     "status": "completed"
    },
    "tags": []
   },
   "source": [
    "The coefficients obtained from the linear regression represent the \"amounts\" or \"weights\" (importance factors) of city and highway fuel consumption that contribute to the combined fuel consumption.\n",
    "\n",
    "> For instance, if the coefficient for city fuel consumption is 0.3, i.e. for every unit increase in city fuel consumption, the combined fuel consumption is expected to increase by 0.3 units."
   ]
  },
  {
   "cell_type": "markdown",
   "id": "a1770fcf",
   "metadata": {
    "papermill": {
     "duration": 0.009116,
     "end_time": "2024-03-12T12:49:41.967336",
     "exception": false,
     "start_time": "2024-03-12T12:49:41.958220",
     "status": "completed"
    },
    "tags": []
   },
   "source": [
    "- used \"least squares\" method from the linear algebra numpy module (np.linalg) - typically used in linear regression to find the best-fitting line through a set of data points; thus, minimizing the sum of squared differences between the predicted and actual values\n",
    "- this returns a *tuple of 4 values*, reason being for tuple unpacking"
   ]
  },
  {
   "cell_type": "code",
   "execution_count": 3,
   "id": "5f8f97ec",
   "metadata": {
    "execution": {
     "iopub.execute_input": "2024-03-12T12:49:41.988588Z",
     "iopub.status.busy": "2024-03-12T12:49:41.987733Z",
     "iopub.status.idle": "2024-03-12T12:49:42.011023Z",
     "shell.execute_reply": "2024-03-12T12:49:42.009905Z"
    },
    "papermill": {
     "duration": 0.036444,
     "end_time": "2024-03-12T12:49:42.013595",
     "exception": false,
     "start_time": "2024-03-12T12:49:41.977151",
     "status": "completed"
    },
    "tags": []
   },
   "outputs": [
    {
     "data": {
      "text/plain": [
       "array([0.54977202, 0.45035134])"
      ]
     },
     "execution_count": 3,
     "metadata": {},
     "output_type": "execute_result"
    }
   ],
   "source": [
    "# linear regression to find the relationship between city, highway, and combined consumption\n",
    "# tuple unpacking; we're interested in the first value (the coeff) and the rest are ignored\n",
    "coefficients, _, _, _ = np.linalg.lstsq(consumption_matrix, combined_consumption, rcond = None)\n",
    "\n",
    "coefficients"
   ]
  },
  {
   "cell_type": "markdown",
   "id": "3ebc5516",
   "metadata": {
    "papermill": {
     "duration": 0.00925,
     "end_time": "2024-03-12T12:49:42.032632",
     "exception": false,
     "start_time": "2024-03-12T12:49:42.023382",
     "status": "completed"
    },
    "tags": []
   },
   "source": [
    "- axis=0 parameter below specifies that the averaging operation is performed along the rows i.e. for each column (feature), the weighted average is calculated (independently) across the rows"
   ]
  },
  {
   "cell_type": "code",
   "execution_count": 4,
   "id": "06717ee6",
   "metadata": {
    "execution": {
     "iopub.execute_input": "2024-03-12T12:49:42.053761Z",
     "iopub.status.busy": "2024-03-12T12:49:42.053369Z",
     "iopub.status.idle": "2024-03-12T12:49:42.065479Z",
     "shell.execute_reply": "2024-03-12T12:49:42.064441Z"
    },
    "papermill": {
     "duration": 0.025755,
     "end_time": "2024-03-12T12:49:42.068165",
     "exception": false,
     "start_time": "2024-03-12T12:49:42.042410",
     "status": "completed"
    },
    "tags": []
   },
   "outputs": [
    {
     "name": "stdout",
     "output_type": "stream",
     "text": [
      "Coefficients: [0.54977202 0.45035134]\n",
      "Weighted Average: [ 8.5  9.6  5.9 11.1 10.6 10.  10.1 11.1 11.6  9.2]\n",
      "Actual Combined Consumption: [8.5, 9.6, 5.9, 11.1, 10.6, 10.0, 10.1, 11.1, 11.6, 9.2]\n",
      "The average difference is: 0.017 (L/100 km)\n",
      "The max difference is: 0.5 (L/100 km)\n"
     ]
    }
   ],
   "source": [
    "# calculate the weighted average of city and highway consumption using the obtained coefficients\n",
    "weighted_avg = np.round(np.average([city_consumption, highway_consumption], weights = coefficients, axis = 0), 1)\n",
    "\n",
    "# print calculated coefficients and compare with the actual combined consumption for the first five rows\n",
    "print('Coefficients:', coefficients)\n",
    "print('Weighted Average:', weighted_avg[:10])\n",
    "print('Actual Combined Consumption:', list(combined_consumption.iloc[:10]))\n",
    "\n",
    "# absolute difference between the actual and calculated combined consumption\n",
    "difference = np.abs(combined_consumption - weighted_avg)\n",
    "\n",
    "# average and maximum absolute difference\n",
    "print('The average difference is:', np.round(np.average(difference), 3), '(L/100 km)')\n",
    "print('The max difference is:', np.max(difference), '(L/100 km)')"
   ]
  },
  {
   "cell_type": "markdown",
   "id": "44a5f75f",
   "metadata": {
    "papermill": {
     "duration": 0.00934,
     "end_time": "2024-03-12T12:49:42.087551",
     "exception": false,
     "start_time": "2024-03-12T12:49:42.078211",
     "status": "completed"
    },
    "tags": []
   },
   "source": [
    "- the first coefficient (0.54977202) corresponds to city fuel consumption\n",
    "- the second coefficient (0.45035134) corresponds to highway fuel consumption\n",
    "- they indicate the contribution of each feature to the prediction of the combined fuel consumption\n",
    "- each value in the weighted average array corresponds to a predicted combined fuel consumption for the corresponding data point\n",
    "- the average difference represents the average absolute difference between the predicted (weighted average) and actual values of combined fuel consumption across all data points, which in this case is pretty low"
   ]
  },
  {
   "cell_type": "markdown",
   "id": "a10e40be",
   "metadata": {
    "papermill": {
     "duration": 0.009305,
     "end_time": "2024-03-12T12:49:42.106569",
     "exception": false,
     "start_time": "2024-03-12T12:49:42.097264",
     "status": "completed"
    },
    "tags": []
   },
   "source": [
    "> To sum up, the discrepancies seem relatively low, especially considering the average difference. "
   ]
  },
  {
   "cell_type": "markdown",
   "id": "d14a2d08",
   "metadata": {
    "papermill": {
     "duration": 0.009255,
     "end_time": "2024-03-12T12:49:42.126312",
     "exception": false,
     "start_time": "2024-03-12T12:49:42.117057",
     "status": "completed"
    },
    "tags": []
   },
   "source": [
    "The calculations for the \"Fuel Consumption Comb (mpg)\" seem off since, since the conversion between miles per gallon (mpg) and liters per 100 kilometers (L/100 km) is given by the formula:\n",
    "\n",
    "mpg = $\\frac{235.215}{L/100 \\, \\text{km}}$\n",
    "\n",
    "Therefore, for 8.5 L/100km we would have 27.67 mpg, instead of 33. This is why we will drop this column and only use the one in L/100km. \n"
   ]
  },
  {
   "cell_type": "code",
   "execution_count": 5,
   "id": "496346ec",
   "metadata": {
    "execution": {
     "iopub.execute_input": "2024-03-12T12:49:42.147785Z",
     "iopub.status.busy": "2024-03-12T12:49:42.147384Z",
     "iopub.status.idle": "2024-03-12T12:49:42.159309Z",
     "shell.execute_reply": "2024-03-12T12:49:42.158317Z"
    },
    "papermill": {
     "duration": 0.02533,
     "end_time": "2024-03-12T12:49:42.161759",
     "exception": false,
     "start_time": "2024-03-12T12:49:42.136429",
     "status": "completed"
    },
    "tags": []
   },
   "outputs": [],
   "source": [
    "emissions = emissions.drop('Fuel Consumption Comb (mpg)', axis = 1)"
   ]
  },
  {
   "cell_type": "markdown",
   "id": "5d8b6608",
   "metadata": {
    "papermill": {
     "duration": 0.009311,
     "end_time": "2024-03-12T12:49:42.181001",
     "exception": false,
     "start_time": "2024-03-12T12:49:42.171690",
     "status": "completed"
    },
    "tags": []
   },
   "source": [
    "### Check for missing data and percentages"
   ]
  },
  {
   "cell_type": "code",
   "execution_count": 6,
   "id": "57dbb515",
   "metadata": {
    "execution": {
     "iopub.execute_input": "2024-03-12T12:49:42.202516Z",
     "iopub.status.busy": "2024-03-12T12:49:42.201781Z",
     "iopub.status.idle": "2024-03-12T12:49:42.235120Z",
     "shell.execute_reply": "2024-03-12T12:49:42.233910Z"
    },
    "papermill": {
     "duration": 0.047231,
     "end_time": "2024-03-12T12:49:42.237852",
     "exception": false,
     "start_time": "2024-03-12T12:49:42.190621",
     "status": "completed"
    },
    "tags": []
   },
   "outputs": [
    {
     "data": {
      "text/html": [
       "<div>\n",
       "<style scoped>\n",
       "    .dataframe tbody tr th:only-of-type {\n",
       "        vertical-align: middle;\n",
       "    }\n",
       "\n",
       "    .dataframe tbody tr th {\n",
       "        vertical-align: top;\n",
       "    }\n",
       "\n",
       "    .dataframe thead th {\n",
       "        text-align: right;\n",
       "    }\n",
       "</style>\n",
       "<table border=\"1\" class=\"dataframe\">\n",
       "  <thead>\n",
       "    <tr style=\"text-align: right;\">\n",
       "      <th></th>\n",
       "      <th>Total values missing</th>\n",
       "      <th>Percent of data missing</th>\n",
       "    </tr>\n",
       "  </thead>\n",
       "  <tbody>\n",
       "    <tr>\n",
       "      <th>Make</th>\n",
       "      <td>0</td>\n",
       "      <td>0.0</td>\n",
       "    </tr>\n",
       "    <tr>\n",
       "      <th>Model</th>\n",
       "      <td>0</td>\n",
       "      <td>0.0</td>\n",
       "    </tr>\n",
       "    <tr>\n",
       "      <th>Vehicle Class</th>\n",
       "      <td>0</td>\n",
       "      <td>0.0</td>\n",
       "    </tr>\n",
       "    <tr>\n",
       "      <th>Engine Size(L)</th>\n",
       "      <td>0</td>\n",
       "      <td>0.0</td>\n",
       "    </tr>\n",
       "    <tr>\n",
       "      <th>Cylinders</th>\n",
       "      <td>0</td>\n",
       "      <td>0.0</td>\n",
       "    </tr>\n",
       "    <tr>\n",
       "      <th>Transmission</th>\n",
       "      <td>0</td>\n",
       "      <td>0.0</td>\n",
       "    </tr>\n",
       "    <tr>\n",
       "      <th>Fuel Type</th>\n",
       "      <td>0</td>\n",
       "      <td>0.0</td>\n",
       "    </tr>\n",
       "    <tr>\n",
       "      <th>Fuel Consumption City (L/100 km)</th>\n",
       "      <td>0</td>\n",
       "      <td>0.0</td>\n",
       "    </tr>\n",
       "    <tr>\n",
       "      <th>Fuel Consumption Hwy (L/100 km)</th>\n",
       "      <td>0</td>\n",
       "      <td>0.0</td>\n",
       "    </tr>\n",
       "    <tr>\n",
       "      <th>Fuel Consumption Comb (L/100 km)</th>\n",
       "      <td>0</td>\n",
       "      <td>0.0</td>\n",
       "    </tr>\n",
       "    <tr>\n",
       "      <th>CO2 Emissions(g/km)</th>\n",
       "      <td>0</td>\n",
       "      <td>0.0</td>\n",
       "    </tr>\n",
       "  </tbody>\n",
       "</table>\n",
       "</div>"
      ],
      "text/plain": [
       "                                  Total values missing  \\\n",
       "Make                                                 0   \n",
       "Model                                                0   \n",
       "Vehicle Class                                        0   \n",
       "Engine Size(L)                                       0   \n",
       "Cylinders                                            0   \n",
       "Transmission                                         0   \n",
       "Fuel Type                                            0   \n",
       "Fuel Consumption City (L/100 km)                     0   \n",
       "Fuel Consumption Hwy (L/100 km)                      0   \n",
       "Fuel Consumption Comb (L/100 km)                     0   \n",
       "CO2 Emissions(g/km)                                  0   \n",
       "\n",
       "                                  Percent of data missing  \n",
       "Make                                                  0.0  \n",
       "Model                                                 0.0  \n",
       "Vehicle Class                                         0.0  \n",
       "Engine Size(L)                                        0.0  \n",
       "Cylinders                                             0.0  \n",
       "Transmission                                          0.0  \n",
       "Fuel Type                                             0.0  \n",
       "Fuel Consumption City (L/100 km)                      0.0  \n",
       "Fuel Consumption Hwy (L/100 km)                       0.0  \n",
       "Fuel Consumption Comb (L/100 km)                      0.0  \n",
       "CO2 Emissions(g/km)                                   0.0  "
      ]
     },
     "execution_count": 6,
     "metadata": {},
     "output_type": "execute_result"
    }
   ],
   "source": [
    "def missing_data(data):\n",
    "    total = data.isnull().sum().sort_values(ascending = False)\n",
    "    percent = (data.isnull().sum() / data.count() * 100).sort_values(ascending = False)\n",
    "    \n",
    "    return pd.concat([total, percent], axis = 1, keys = ['Total values missing', 'Percent of data missing'])\n",
    "\n",
    "missing_data(emissions)"
   ]
  },
  {
   "cell_type": "code",
   "execution_count": 7,
   "id": "ed8cbe18",
   "metadata": {
    "execution": {
     "iopub.execute_input": "2024-03-12T12:49:42.260000Z",
     "iopub.status.busy": "2024-03-12T12:49:42.259576Z",
     "iopub.status.idle": "2024-03-12T12:49:42.293233Z",
     "shell.execute_reply": "2024-03-12T12:49:42.292060Z"
    },
    "papermill": {
     "duration": 0.047598,
     "end_time": "2024-03-12T12:49:42.295800",
     "exception": false,
     "start_time": "2024-03-12T12:49:42.248202",
     "status": "completed"
    },
    "tags": []
   },
   "outputs": [
    {
     "data": {
      "text/html": [
       "<div>\n",
       "<style scoped>\n",
       "    .dataframe tbody tr th:only-of-type {\n",
       "        vertical-align: middle;\n",
       "    }\n",
       "\n",
       "    .dataframe tbody tr th {\n",
       "        vertical-align: top;\n",
       "    }\n",
       "\n",
       "    .dataframe thead th {\n",
       "        text-align: right;\n",
       "    }\n",
       "</style>\n",
       "<table border=\"1\" class=\"dataframe\">\n",
       "  <thead>\n",
       "    <tr style=\"text-align: right;\">\n",
       "      <th></th>\n",
       "      <th>Engine Size(L)</th>\n",
       "      <th>Cylinders</th>\n",
       "      <th>Fuel Consumption City (L/100 km)</th>\n",
       "      <th>Fuel Consumption Hwy (L/100 km)</th>\n",
       "      <th>Fuel Consumption Comb (L/100 km)</th>\n",
       "      <th>CO2 Emissions(g/km)</th>\n",
       "    </tr>\n",
       "  </thead>\n",
       "  <tbody>\n",
       "    <tr>\n",
       "      <th>count</th>\n",
       "      <td>7385.000000</td>\n",
       "      <td>7385.000000</td>\n",
       "      <td>7385.000000</td>\n",
       "      <td>7385.000000</td>\n",
       "      <td>7385.000000</td>\n",
       "      <td>7385.000000</td>\n",
       "    </tr>\n",
       "    <tr>\n",
       "      <th>mean</th>\n",
       "      <td>3.160068</td>\n",
       "      <td>5.615030</td>\n",
       "      <td>12.556534</td>\n",
       "      <td>9.041706</td>\n",
       "      <td>10.975071</td>\n",
       "      <td>250.584699</td>\n",
       "    </tr>\n",
       "    <tr>\n",
       "      <th>std</th>\n",
       "      <td>1.354170</td>\n",
       "      <td>1.828307</td>\n",
       "      <td>3.500274</td>\n",
       "      <td>2.224456</td>\n",
       "      <td>2.892506</td>\n",
       "      <td>58.512679</td>\n",
       "    </tr>\n",
       "    <tr>\n",
       "      <th>min</th>\n",
       "      <td>0.900000</td>\n",
       "      <td>3.000000</td>\n",
       "      <td>4.200000</td>\n",
       "      <td>4.000000</td>\n",
       "      <td>4.100000</td>\n",
       "      <td>96.000000</td>\n",
       "    </tr>\n",
       "    <tr>\n",
       "      <th>25%</th>\n",
       "      <td>2.000000</td>\n",
       "      <td>4.000000</td>\n",
       "      <td>10.100000</td>\n",
       "      <td>7.500000</td>\n",
       "      <td>8.900000</td>\n",
       "      <td>208.000000</td>\n",
       "    </tr>\n",
       "    <tr>\n",
       "      <th>50%</th>\n",
       "      <td>3.000000</td>\n",
       "      <td>6.000000</td>\n",
       "      <td>12.100000</td>\n",
       "      <td>8.700000</td>\n",
       "      <td>10.600000</td>\n",
       "      <td>246.000000</td>\n",
       "    </tr>\n",
       "    <tr>\n",
       "      <th>75%</th>\n",
       "      <td>3.700000</td>\n",
       "      <td>6.000000</td>\n",
       "      <td>14.600000</td>\n",
       "      <td>10.200000</td>\n",
       "      <td>12.600000</td>\n",
       "      <td>288.000000</td>\n",
       "    </tr>\n",
       "    <tr>\n",
       "      <th>max</th>\n",
       "      <td>8.400000</td>\n",
       "      <td>16.000000</td>\n",
       "      <td>30.600000</td>\n",
       "      <td>20.600000</td>\n",
       "      <td>26.100000</td>\n",
       "      <td>522.000000</td>\n",
       "    </tr>\n",
       "  </tbody>\n",
       "</table>\n",
       "</div>"
      ],
      "text/plain": [
       "       Engine Size(L)    Cylinders  Fuel Consumption City (L/100 km)  \\\n",
       "count     7385.000000  7385.000000                       7385.000000   \n",
       "mean         3.160068     5.615030                         12.556534   \n",
       "std          1.354170     1.828307                          3.500274   \n",
       "min          0.900000     3.000000                          4.200000   \n",
       "25%          2.000000     4.000000                         10.100000   \n",
       "50%          3.000000     6.000000                         12.100000   \n",
       "75%          3.700000     6.000000                         14.600000   \n",
       "max          8.400000    16.000000                         30.600000   \n",
       "\n",
       "       Fuel Consumption Hwy (L/100 km)  Fuel Consumption Comb (L/100 km)  \\\n",
       "count                      7385.000000                       7385.000000   \n",
       "mean                          9.041706                         10.975071   \n",
       "std                           2.224456                          2.892506   \n",
       "min                           4.000000                          4.100000   \n",
       "25%                           7.500000                          8.900000   \n",
       "50%                           8.700000                         10.600000   \n",
       "75%                          10.200000                         12.600000   \n",
       "max                          20.600000                         26.100000   \n",
       "\n",
       "       CO2 Emissions(g/km)  \n",
       "count          7385.000000  \n",
       "mean            250.584699  \n",
       "std              58.512679  \n",
       "min              96.000000  \n",
       "25%             208.000000  \n",
       "50%             246.000000  \n",
       "75%             288.000000  \n",
       "max             522.000000  "
      ]
     },
     "execution_count": 7,
     "metadata": {},
     "output_type": "execute_result"
    }
   ],
   "source": [
    "emissions.describe()"
   ]
  },
  {
   "cell_type": "markdown",
   "id": "13e34c6c",
   "metadata": {
    "papermill": {
     "duration": 0.010044,
     "end_time": "2024-03-12T12:49:42.316189",
     "exception": false,
     "start_time": "2024-03-12T12:49:42.306145",
     "status": "completed"
    },
    "tags": []
   },
   "source": [
    "- The mean for CO2 emissions is 250 g/km\n",
    "- No matter the parameter, Fuel Consumption Hwy (L/100 km) < Fuel Consumption Comb (L/100 km)"
   ]
  },
  {
   "cell_type": "markdown",
   "id": "d28769ba",
   "metadata": {
    "papermill": {
     "duration": 0.010101,
     "end_time": "2024-03-12T12:49:42.336661",
     "exception": false,
     "start_time": "2024-03-12T12:49:42.326560",
     "status": "completed"
    },
    "tags": []
   },
   "source": [
    "## Check for duplicated data"
   ]
  },
  {
   "cell_type": "code",
   "execution_count": 8,
   "id": "c8f32f6a",
   "metadata": {
    "execution": {
     "iopub.execute_input": "2024-03-12T12:49:42.359406Z",
     "iopub.status.busy": "2024-03-12T12:49:42.359005Z",
     "iopub.status.idle": "2024-03-12T12:49:42.393875Z",
     "shell.execute_reply": "2024-03-12T12:49:42.392804Z"
    },
    "papermill": {
     "duration": 0.049306,
     "end_time": "2024-03-12T12:49:42.396468",
     "exception": false,
     "start_time": "2024-03-12T12:49:42.347162",
     "status": "completed"
    },
    "tags": []
   },
   "outputs": [
    {
     "data": {
      "text/html": [
       "<div>\n",
       "<style scoped>\n",
       "    .dataframe tbody tr th:only-of-type {\n",
       "        vertical-align: middle;\n",
       "    }\n",
       "\n",
       "    .dataframe tbody tr th {\n",
       "        vertical-align: top;\n",
       "    }\n",
       "\n",
       "    .dataframe thead th {\n",
       "        text-align: right;\n",
       "    }\n",
       "</style>\n",
       "<table border=\"1\" class=\"dataframe\">\n",
       "  <thead>\n",
       "    <tr style=\"text-align: right;\">\n",
       "      <th></th>\n",
       "      <th>Make</th>\n",
       "      <th>Model</th>\n",
       "      <th>Vehicle Class</th>\n",
       "      <th>Engine Size(L)</th>\n",
       "      <th>Cylinders</th>\n",
       "      <th>Transmission</th>\n",
       "      <th>Fuel Type</th>\n",
       "      <th>Fuel Consumption City (L/100 km)</th>\n",
       "      <th>Fuel Consumption Hwy (L/100 km)</th>\n",
       "      <th>Fuel Consumption Comb (L/100 km)</th>\n",
       "      <th>CO2 Emissions(g/km)</th>\n",
       "    </tr>\n",
       "  </thead>\n",
       "  <tbody>\n",
       "    <tr>\n",
       "      <th>1075</th>\n",
       "      <td>ACURA</td>\n",
       "      <td>RDX AWD</td>\n",
       "      <td>SUV - SMALL</td>\n",
       "      <td>3.5</td>\n",
       "      <td>6</td>\n",
       "      <td>AS6</td>\n",
       "      <td>Z</td>\n",
       "      <td>12.1</td>\n",
       "      <td>8.7</td>\n",
       "      <td>10.6</td>\n",
       "      <td>244</td>\n",
       "    </tr>\n",
       "    <tr>\n",
       "      <th>1076</th>\n",
       "      <td>ACURA</td>\n",
       "      <td>RLX</td>\n",
       "      <td>MID-SIZE</td>\n",
       "      <td>3.5</td>\n",
       "      <td>6</td>\n",
       "      <td>AS6</td>\n",
       "      <td>Z</td>\n",
       "      <td>11.9</td>\n",
       "      <td>7.7</td>\n",
       "      <td>10.0</td>\n",
       "      <td>230</td>\n",
       "    </tr>\n",
       "    <tr>\n",
       "      <th>1081</th>\n",
       "      <td>ALFA ROMEO</td>\n",
       "      <td>4C</td>\n",
       "      <td>TWO-SEATER</td>\n",
       "      <td>1.8</td>\n",
       "      <td>4</td>\n",
       "      <td>AM6</td>\n",
       "      <td>Z</td>\n",
       "      <td>9.7</td>\n",
       "      <td>6.9</td>\n",
       "      <td>8.4</td>\n",
       "      <td>193</td>\n",
       "    </tr>\n",
       "    <tr>\n",
       "      <th>1082</th>\n",
       "      <td>ASTON MARTIN</td>\n",
       "      <td>DB9</td>\n",
       "      <td>MINICOMPACT</td>\n",
       "      <td>5.9</td>\n",
       "      <td>12</td>\n",
       "      <td>A6</td>\n",
       "      <td>Z</td>\n",
       "      <td>18.0</td>\n",
       "      <td>12.6</td>\n",
       "      <td>15.6</td>\n",
       "      <td>359</td>\n",
       "    </tr>\n",
       "    <tr>\n",
       "      <th>1084</th>\n",
       "      <td>ASTON MARTIN</td>\n",
       "      <td>V8 VANTAGE</td>\n",
       "      <td>TWO-SEATER</td>\n",
       "      <td>4.7</td>\n",
       "      <td>8</td>\n",
       "      <td>AM7</td>\n",
       "      <td>Z</td>\n",
       "      <td>17.4</td>\n",
       "      <td>11.3</td>\n",
       "      <td>14.7</td>\n",
       "      <td>338</td>\n",
       "    </tr>\n",
       "    <tr>\n",
       "      <th>...</th>\n",
       "      <td>...</td>\n",
       "      <td>...</td>\n",
       "      <td>...</td>\n",
       "      <td>...</td>\n",
       "      <td>...</td>\n",
       "      <td>...</td>\n",
       "      <td>...</td>\n",
       "      <td>...</td>\n",
       "      <td>...</td>\n",
       "      <td>...</td>\n",
       "      <td>...</td>\n",
       "    </tr>\n",
       "    <tr>\n",
       "      <th>7356</th>\n",
       "      <td>TOYOTA</td>\n",
       "      <td>Tundra</td>\n",
       "      <td>PICKUP TRUCK - STANDARD</td>\n",
       "      <td>5.7</td>\n",
       "      <td>8</td>\n",
       "      <td>AS6</td>\n",
       "      <td>X</td>\n",
       "      <td>17.7</td>\n",
       "      <td>13.6</td>\n",
       "      <td>15.9</td>\n",
       "      <td>371</td>\n",
       "    </tr>\n",
       "    <tr>\n",
       "      <th>7365</th>\n",
       "      <td>VOLKSWAGEN</td>\n",
       "      <td>Golf GTI</td>\n",
       "      <td>COMPACT</td>\n",
       "      <td>2.0</td>\n",
       "      <td>4</td>\n",
       "      <td>M6</td>\n",
       "      <td>X</td>\n",
       "      <td>9.8</td>\n",
       "      <td>7.3</td>\n",
       "      <td>8.7</td>\n",
       "      <td>203</td>\n",
       "    </tr>\n",
       "    <tr>\n",
       "      <th>7366</th>\n",
       "      <td>VOLKSWAGEN</td>\n",
       "      <td>Jetta</td>\n",
       "      <td>COMPACT</td>\n",
       "      <td>1.4</td>\n",
       "      <td>4</td>\n",
       "      <td>AS8</td>\n",
       "      <td>X</td>\n",
       "      <td>7.8</td>\n",
       "      <td>5.9</td>\n",
       "      <td>7.0</td>\n",
       "      <td>162</td>\n",
       "    </tr>\n",
       "    <tr>\n",
       "      <th>7367</th>\n",
       "      <td>VOLKSWAGEN</td>\n",
       "      <td>Jetta</td>\n",
       "      <td>COMPACT</td>\n",
       "      <td>1.4</td>\n",
       "      <td>4</td>\n",
       "      <td>M6</td>\n",
       "      <td>X</td>\n",
       "      <td>7.9</td>\n",
       "      <td>5.9</td>\n",
       "      <td>7.0</td>\n",
       "      <td>163</td>\n",
       "    </tr>\n",
       "    <tr>\n",
       "      <th>7368</th>\n",
       "      <td>VOLKSWAGEN</td>\n",
       "      <td>Jetta GLI</td>\n",
       "      <td>COMPACT</td>\n",
       "      <td>2.0</td>\n",
       "      <td>4</td>\n",
       "      <td>AM7</td>\n",
       "      <td>X</td>\n",
       "      <td>9.3</td>\n",
       "      <td>7.2</td>\n",
       "      <td>8.4</td>\n",
       "      <td>196</td>\n",
       "    </tr>\n",
       "  </tbody>\n",
       "</table>\n",
       "<p>1103 rows × 11 columns</p>\n",
       "</div>"
      ],
      "text/plain": [
       "              Make       Model            Vehicle Class  Engine Size(L)  \\\n",
       "1075         ACURA     RDX AWD              SUV - SMALL             3.5   \n",
       "1076         ACURA         RLX                 MID-SIZE             3.5   \n",
       "1081    ALFA ROMEO          4C               TWO-SEATER             1.8   \n",
       "1082  ASTON MARTIN         DB9              MINICOMPACT             5.9   \n",
       "1084  ASTON MARTIN  V8 VANTAGE               TWO-SEATER             4.7   \n",
       "...            ...         ...                      ...             ...   \n",
       "7356        TOYOTA      Tundra  PICKUP TRUCK - STANDARD             5.7   \n",
       "7365    VOLKSWAGEN    Golf GTI                  COMPACT             2.0   \n",
       "7366    VOLKSWAGEN       Jetta                  COMPACT             1.4   \n",
       "7367    VOLKSWAGEN       Jetta                  COMPACT             1.4   \n",
       "7368    VOLKSWAGEN   Jetta GLI                  COMPACT             2.0   \n",
       "\n",
       "      Cylinders Transmission Fuel Type  Fuel Consumption City (L/100 km)  \\\n",
       "1075          6          AS6         Z                              12.1   \n",
       "1076          6          AS6         Z                              11.9   \n",
       "1081          4          AM6         Z                               9.7   \n",
       "1082         12           A6         Z                              18.0   \n",
       "1084          8          AM7         Z                              17.4   \n",
       "...         ...          ...       ...                               ...   \n",
       "7356          8          AS6         X                              17.7   \n",
       "7365          4           M6         X                               9.8   \n",
       "7366          4          AS8         X                               7.8   \n",
       "7367          4           M6         X                               7.9   \n",
       "7368          4          AM7         X                               9.3   \n",
       "\n",
       "      Fuel Consumption Hwy (L/100 km)  Fuel Consumption Comb (L/100 km)  \\\n",
       "1075                              8.7                              10.6   \n",
       "1076                              7.7                              10.0   \n",
       "1081                              6.9                               8.4   \n",
       "1082                             12.6                              15.6   \n",
       "1084                             11.3                              14.7   \n",
       "...                               ...                               ...   \n",
       "7356                             13.6                              15.9   \n",
       "7365                              7.3                               8.7   \n",
       "7366                              5.9                               7.0   \n",
       "7367                              5.9                               7.0   \n",
       "7368                              7.2                               8.4   \n",
       "\n",
       "      CO2 Emissions(g/km)  \n",
       "1075                  244  \n",
       "1076                  230  \n",
       "1081                  193  \n",
       "1082                  359  \n",
       "1084                  338  \n",
       "...                   ...  \n",
       "7356                  371  \n",
       "7365                  203  \n",
       "7366                  162  \n",
       "7367                  163  \n",
       "7368                  196  \n",
       "\n",
       "[1103 rows x 11 columns]"
      ]
     },
     "execution_count": 8,
     "metadata": {},
     "output_type": "execute_result"
    }
   ],
   "source": [
    "emissions_duplicated = emissions[emissions.duplicated() == True]\n",
    "emissions_duplicated\n",
    "\n",
    "#emissions.duplicated().sum()"
   ]
  },
  {
   "cell_type": "code",
   "execution_count": 9,
   "id": "4961a01a",
   "metadata": {
    "execution": {
     "iopub.execute_input": "2024-03-12T12:49:42.420679Z",
     "iopub.status.busy": "2024-03-12T12:49:42.420267Z",
     "iopub.status.idle": "2024-03-12T12:49:42.427078Z",
     "shell.execute_reply": "2024-03-12T12:49:42.425885Z"
    },
    "papermill": {
     "duration": 0.022174,
     "end_time": "2024-03-12T12:49:42.429836",
     "exception": false,
     "start_time": "2024-03-12T12:49:42.407662",
     "status": "completed"
    },
    "tags": []
   },
   "outputs": [
    {
     "data": {
      "text/plain": [
       "(7385, 11)"
      ]
     },
     "execution_count": 9,
     "metadata": {},
     "output_type": "execute_result"
    }
   ],
   "source": [
    "emissions.shape"
   ]
  },
  {
   "cell_type": "markdown",
   "id": "0eb4f677",
   "metadata": {
    "papermill": {
     "duration": 0.011184,
     "end_time": "2024-03-12T12:49:42.452186",
     "exception": false,
     "start_time": "2024-03-12T12:49:42.441002",
     "status": "completed"
    },
    "tags": []
   },
   "source": [
    "There is almost 15% of duplicates, which I think it is quite much. \n",
    "Let's see the number of unique values of 'CO2 Emissions(g/km)' for each combination of the specified columns."
   ]
  },
  {
   "cell_type": "code",
   "execution_count": 10,
   "id": "eabf3fd5",
   "metadata": {
    "execution": {
     "iopub.execute_input": "2024-03-12T12:49:42.476165Z",
     "iopub.status.busy": "2024-03-12T12:49:42.475762Z",
     "iopub.status.idle": "2024-03-12T12:49:42.489663Z",
     "shell.execute_reply": "2024-03-12T12:49:42.488523Z"
    },
    "papermill": {
     "duration": 0.028742,
     "end_time": "2024-03-12T12:49:42.492071",
     "exception": false,
     "start_time": "2024-03-12T12:49:42.463329",
     "status": "completed"
    },
    "tags": []
   },
   "outputs": [
    {
     "data": {
      "text/plain": [
       "998"
      ]
     },
     "execution_count": 10,
     "metadata": {},
     "output_type": "execute_result"
    }
   ],
   "source": [
    "sum(emissions_duplicated.groupby(by =['Make','Model','Vehicle Class','Engine Size(L)','Cylinders','Transmission','Fuel Type'])['CO2 Emissions(g/km)'].nunique())"
   ]
  },
  {
   "cell_type": "markdown",
   "id": "52cc3128",
   "metadata": {
    "papermill": {
     "duration": 0.011055,
     "end_time": "2024-03-12T12:49:42.514290",
     "exception": false,
     "start_time": "2024-03-12T12:49:42.503235",
     "status": "completed"
    },
    "tags": []
   },
   "source": [
    "I will consider the duplicates as instances that happen to have the same values instead of dropping them, since I don't think they will impact the results."
   ]
  },
  {
   "cell_type": "markdown",
   "id": "f48542f0",
   "metadata": {
    "papermill": {
     "duration": 0.010751,
     "end_time": "2024-03-12T12:49:42.536150",
     "exception": false,
     "start_time": "2024-03-12T12:49:42.525399",
     "status": "completed"
    },
    "tags": []
   },
   "source": [
    "# Data visualization"
   ]
  },
  {
   "cell_type": "code",
   "execution_count": 11,
   "id": "2142e31e",
   "metadata": {
    "execution": {
     "iopub.execute_input": "2024-03-12T12:49:42.560378Z",
     "iopub.status.busy": "2024-03-12T12:49:42.559933Z",
     "iopub.status.idle": "2024-03-12T12:49:43.228263Z",
     "shell.execute_reply": "2024-03-12T12:49:43.227188Z"
    },
    "papermill": {
     "duration": 0.683442,
     "end_time": "2024-03-12T12:49:43.230896",
     "exception": false,
     "start_time": "2024-03-12T12:49:42.547454",
     "status": "completed"
    },
    "tags": []
   },
   "outputs": [
    {
     "data": {
      "image/png": "[encoded data removed]",
      "text/plain": [
       "<Figure size 1200x1200 with 2 Axes>"
      ]
     },
     "metadata": {},
     "output_type": "display_data"
    }
   ],
   "source": [
    "# heatmap to see the correlations between numeric values\n",
    "numeric_columns = emissions.select_dtypes(include=['number'])\n",
    "\n",
    "correlation_matrix = numeric_columns.corr()\n",
    "plt.figure(figsize = (12, 12))\n",
    "sns.heatmap(correlation_matrix, cmap = 'viridis', annot = True)\n",
    "plt.title('Correlation Heatmap')\n",
    "plt.show()"
   ]
  },
  {
   "cell_type": "markdown",
   "id": "af63b39b",
   "metadata": {
    "papermill": {
     "duration": 0.012596,
     "end_time": "2024-03-12T12:49:43.256362",
     "exception": false,
     "start_time": "2024-03-12T12:49:43.243766",
     "status": "completed"
    },
    "tags": []
   },
   "source": [
    "- All features impact negatively the CO2 emissions, especially the fuel consumption and the engine size; plus, the higher the number of cylinders, the higher the engine size."
   ]
  },
  {
   "cell_type": "code",
   "execution_count": 12,
   "id": "2098d3ea",
   "metadata": {
    "execution": {
     "iopub.execute_input": "2024-03-12T12:49:43.284604Z",
     "iopub.status.busy": "2024-03-12T12:49:43.283551Z",
     "iopub.status.idle": "2024-03-12T12:49:43.316999Z",
     "shell.execute_reply": "2024-03-12T12:49:43.315723Z"
    },
    "papermill": {
     "duration": 0.050585,
     "end_time": "2024-03-12T12:49:43.319920",
     "exception": false,
     "start_time": "2024-03-12T12:49:43.269335",
     "status": "completed"
    },
    "tags": []
   },
   "outputs": [
    {
     "data": {
      "text/html": [
       "<div>\n",
       "<style scoped>\n",
       "    .dataframe tbody tr th:only-of-type {\n",
       "        vertical-align: middle;\n",
       "    }\n",
       "\n",
       "    .dataframe tbody tr th {\n",
       "        vertical-align: top;\n",
       "    }\n",
       "\n",
       "    .dataframe thead th {\n",
       "        text-align: right;\n",
       "    }\n",
       "</style>\n",
       "<table border=\"1\" class=\"dataframe\">\n",
       "  <thead>\n",
       "    <tr style=\"text-align: right;\">\n",
       "      <th></th>\n",
       "      <th>Make</th>\n",
       "      <th>Model</th>\n",
       "      <th>Vehicle Class</th>\n",
       "      <th>Transmission</th>\n",
       "      <th>Fuel Type</th>\n",
       "    </tr>\n",
       "  </thead>\n",
       "  <tbody>\n",
       "    <tr>\n",
       "      <th>count</th>\n",
       "      <td>7385</td>\n",
       "      <td>7385</td>\n",
       "      <td>7385</td>\n",
       "      <td>7385</td>\n",
       "      <td>7385</td>\n",
       "    </tr>\n",
       "    <tr>\n",
       "      <th>unique</th>\n",
       "      <td>42</td>\n",
       "      <td>2053</td>\n",
       "      <td>16</td>\n",
       "      <td>27</td>\n",
       "      <td>5</td>\n",
       "    </tr>\n",
       "    <tr>\n",
       "      <th>top</th>\n",
       "      <td>FORD</td>\n",
       "      <td>F-150 FFV 4X4</td>\n",
       "      <td>SUV - SMALL</td>\n",
       "      <td>AS6</td>\n",
       "      <td>X</td>\n",
       "    </tr>\n",
       "    <tr>\n",
       "      <th>freq</th>\n",
       "      <td>628</td>\n",
       "      <td>32</td>\n",
       "      <td>1217</td>\n",
       "      <td>1324</td>\n",
       "      <td>3637</td>\n",
       "    </tr>\n",
       "  </tbody>\n",
       "</table>\n",
       "</div>"
      ],
      "text/plain": [
       "        Make          Model Vehicle Class Transmission Fuel Type\n",
       "count   7385           7385          7385         7385      7385\n",
       "unique    42           2053            16           27         5\n",
       "top     FORD  F-150 FFV 4X4   SUV - SMALL          AS6         X\n",
       "freq     628             32          1217         1324      3637"
      ]
     },
     "execution_count": 12,
     "metadata": {},
     "output_type": "execute_result"
    }
   ],
   "source": [
    "# statistics for columns with object (string) data types\n",
    "\n",
    "emissions.describe(include=['O'])"
   ]
  }
 ],
 "metadata": {
  "kaggle": {
   "accelerator": "none",
   "dataSources": [
    {
     "datasetId": 817556,
     "sourceId": 1399448,
     "sourceType": "datasetVersion"
    }
   ],
   "dockerImageVersionId": 30664,
   "isGpuEnabled": false,
   "isInternetEnabled": true,
   "language": "python",
   "sourceType": "notebook"
  },
  "kernelspec": {
   "display_name": "Python 3",
   "language": "python",
   "name": "python3"
  },
  "language_info": {
   "codemirror_mode": {
    "name": "ipython",
    "version": 3
   },
   "file_extension": ".py",
   "mimetype": "text/x-python",
   "name": "python",
   "nbconvert_exporter": "python",
   "pygments_lexer": "ipython3",
   "version": "3.10.13"
  },
  "papermill": {
   "default_parameters": {},
   "duration": 7.643782,
   "end_time": "2024-03-12T12:49:43.956818",
   "environment_variables": {},
   "exception": null,
   "input_path": "__notebook__.ipynb",
   "output_path": "__notebook__.ipynb",
   "parameters": {},
   "start_time": "2024-03-12T12:49:36.313036",
   "version": "2.5.0"
  }
 },
 "nbformat": 4,
 "nbformat_minor": 5
}
